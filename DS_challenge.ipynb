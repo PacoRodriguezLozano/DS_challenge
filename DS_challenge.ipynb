{
 "cells": [
  {
   "cell_type": "code",
   "execution_count": 1,
   "id": "0e66e6d7",
   "metadata": {},
   "outputs": [],
   "source": [
    "import pandas as pd\n",
    "import matplotlib.pyplot as plt\n",
    "import numpy as np\n",
    "import seaborn as sns"
   ]
  },
  {
   "cell_type": "markdown",
   "id": "ef6493e2",
   "metadata": {},
   "source": [
    "## Ejercicio contar lineas"
   ]
  },
  {
   "cell_type": "code",
   "execution_count": null,
   "id": "d04f3675",
   "metadata": {},
   "outputs": [],
   "source": [
    "import bz2"
   ]
  },
  {
   "cell_type": "code",
   "execution_count": null,
   "id": "3b39bd67",
   "metadata": {},
   "outputs": [],
   "source": [
    "help(bz2)"
   ]
  },
  {
   "cell_type": "markdown",
   "id": "5f3290ba",
   "metadata": {},
   "source": [
    "10000011"
   ]
  },
  {
   "cell_type": "code",
   "execution_count": null,
   "id": "5a98bfba",
   "metadata": {},
   "outputs": [],
   "source": [
    "!pwd"
   ]
  },
  {
   "cell_type": "code",
   "execution_count": null,
   "id": "17c19a4c",
   "metadata": {},
   "outputs": [],
   "source": [
    "!bzcat ../data/challenge/bookings.csv.bz2 | head -10000 > bookings_sample.csv"
   ]
  },
  {
   "cell_type": "code",
   "execution_count": null,
   "id": "8bbe19e8",
   "metadata": {},
   "outputs": [],
   "source": [
    "!bzcat ../data/challenge/searches.csv.bz2 | head -10000 > searches_sample.csv"
   ]
  },
  {
   "cell_type": "code",
   "execution_count": null,
   "id": "d386dd13",
   "metadata": {},
   "outputs": [],
   "source": [
    "!head -n 5 bookings_sample.csv"
   ]
  },
  {
   "cell_type": "code",
   "execution_count": null,
   "id": "009e2e71",
   "metadata": {},
   "outputs": [],
   "source": [
    "!bzip2 -f bookings_sample.csv"
   ]
  },
  {
   "cell_type": "code",
   "execution_count": 5,
   "id": "630021d6",
   "metadata": {},
   "outputs": [
    {
     "name": "stdout",
     "output_type": "stream",
     "text": [
      "/home/dsc/DS_challenge/DS_challenge\r\n"
     ]
    }
   ],
   "source": [
    "!pwd"
   ]
  },
  {
   "cell_type": "code",
   "execution_count": null,
   "id": "52cf5f28",
   "metadata": {},
   "outputs": [],
   "source": [
    "bk = bz2.BZ2File('bookings_sample.csv.bz2')"
   ]
  },
  {
   "cell_type": "code",
   "execution_count": null,
   "id": "d8edd1c5",
   "metadata": {},
   "outputs": [],
   "source": [
    "count = 0\n",
    "with bz2.BZ2File('bookings_sample.csv.bz2') as bk:\n",
    "    for i in bk:\n",
    "        count +=1\n",
    "        \n",
    "print(count)"
   ]
  },
  {
   "cell_type": "code",
   "execution_count": null,
   "id": "d005113f",
   "metadata": {},
   "outputs": [],
   "source": [
    "with bz2.BZ2File('../data/challenge/bookings.csv.bz2') as bk:\n",
    "    for i in bk:\n",
    "        count +=1\n",
    "        \n",
    "print(count)"
   ]
  },
  {
   "cell_type": "code",
   "execution_count": 6,
   "id": "f620bbed",
   "metadata": {},
   "outputs": [],
   "source": [
    "book = pd.read_csv('../bookings_sample.csv.bz2', sep= '^', compression = 'bz2')"
   ]
  },
  {
   "cell_type": "code",
   "execution_count": null,
   "id": "bd2fe200",
   "metadata": {},
   "outputs": [],
   "source": [
    "help(pd.read_csv)"
   ]
  },
  {
   "cell_type": "code",
   "execution_count": null,
   "id": "42f507ca",
   "metadata": {},
   "outputs": [],
   "source": [
    "book.head()"
   ]
  },
  {
   "cell_type": "code",
   "execution_count": null,
   "id": "f9beada3",
   "metadata": {},
   "outputs": [],
   "source": [
    "len(list(book.columns))"
   ]
  },
  {
   "cell_type": "code",
   "execution_count": 7,
   "id": "3f862770",
   "metadata": {},
   "outputs": [
    {
     "data": {
      "text/plain": [
       "Index(['act_date', 'source', 'pos_ctry', 'pos_iata', 'pos_oid', 'rloc',\n",
       "       'cre_date', 'duration', 'distance', 'dep_port', 'dep_city', 'dep_ctry',\n",
       "       'arr_port', 'arr_city', 'arr_ctry', 'lst_port', 'lst_city', 'lst_ctry',\n",
       "       'brd_port', 'brd_city', 'brd_ctry', 'off_port', 'off_city', 'off_ctry',\n",
       "       'mkt_port', 'mkt_city', 'mkt_ctry', 'intl', 'route', 'carrier',\n",
       "       'bkg_class', 'cab_class', 'brd_time', 'off_time', 'pax', 'year',\n",
       "       'month', 'oid'],\n",
       "      dtype='object')"
      ]
     },
     "execution_count": 7,
     "metadata": {},
     "output_type": "execute_result"
    }
   ],
   "source": [
    "book.columns = [x.strip() for x in book.columns]\n",
    "\n",
    "book.columns"
   ]
  },
  {
   "cell_type": "code",
   "execution_count": 8,
   "id": "0690e0cc",
   "metadata": {},
   "outputs": [],
   "source": [
    "book2013 = book[book['year'] == 2013]"
   ]
  },
  {
   "cell_type": "code",
   "execution_count": 12,
   "id": "63fedc65",
   "metadata": {},
   "outputs": [],
   "source": [
    "cols_imp = ['arr_port', 'pax', 'year']"
   ]
  },
  {
   "cell_type": "code",
   "execution_count": 13,
   "id": "e3b2b9fc",
   "metadata": {},
   "outputs": [],
   "source": [
    "book_by_port = book2013[cols_imp].groupby(by='arr_port')"
   ]
  },
  {
   "cell_type": "code",
   "execution_count": 15,
   "id": "683da6e3",
   "metadata": {},
   "outputs": [
    {
     "data": {
      "text/plain": [
       "arr_port\n",
       "HKG         112\n",
       "LGA          95\n",
       "ORD          94\n",
       "JFK          92\n",
       "LAX          91\n",
       "           ... \n",
       "PSA          -8\n",
       "DPS          -9\n",
       "ASU         -10\n",
       "IKA         -10\n",
       "GUM         -14\n",
       "Name: pax, Length: 663, dtype: int64"
      ]
     },
     "execution_count": 15,
     "metadata": {},
     "output_type": "execute_result"
    }
   ],
   "source": [
    "book_by_port['pax'].sum().sort_values(ascending = False)"
   ]
  }
 ],
 "metadata": {
  "kernelspec": {
   "display_name": "Python 3 (ipykernel)",
   "language": "python",
   "name": "python3"
  },
  "language_info": {
   "codemirror_mode": {
    "name": "ipython",
    "version": 3
   },
   "file_extension": ".py",
   "mimetype": "text/x-python",
   "name": "python",
   "nbconvert_exporter": "python",
   "pygments_lexer": "ipython3",
   "version": "3.8.11"
  }
 },
 "nbformat": 4,
 "nbformat_minor": 5
}
